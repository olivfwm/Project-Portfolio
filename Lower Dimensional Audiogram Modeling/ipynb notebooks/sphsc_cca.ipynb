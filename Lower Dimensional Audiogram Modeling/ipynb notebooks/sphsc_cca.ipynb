{
  "nbformat": 4,
  "nbformat_minor": 0,
  "metadata": {
    "colab": {
      "provenance": []
    },
    "kernelspec": {
      "name": "python3",
      "display_name": "Python 3"
    },
    "language_info": {
      "name": "python"
    }
  },
  "cells": [
    {
      "cell_type": "markdown",
      "source": [
        "# Documentation\n",
        "\n",
        "In this file we continue the use of CCA, utilizing the cca package from sklearn. We assess the performance of this model and how different parameters may influence the outcome."
      ],
      "metadata": {
        "id": "ZfSTsMCI1cV_"
      }
    },
    {
      "cell_type": "markdown",
      "source": [
        "# Work"
      ],
      "metadata": {
        "id": "FC04Bilj1e6D"
      }
    },
    {
      "cell_type": "code",
      "source": [
        "import pandas as pd\n",
        "from sklearn.model_selection import train_test_split\n",
        "from sklearn.metrics import root_mean_squared_error\n",
        "from sklearn.model_selection import KFold\n",
        "from sklearn.cross_decomposition import CCA\n",
        "import seaborn as sns\n",
        "import matplotlib.pyplot as plt\n",
        "import numpy as np\n",
        "import statistics"
      ],
      "metadata": {
        "id": "orK1iBztliZQ"
      },
      "execution_count": 1,
      "outputs": []
    },
    {
      "cell_type": "code",
      "source": [
        "from google.colab import drive\n",
        "drive.mount('/content/drive')"
      ],
      "metadata": {
        "colab": {
          "base_uri": "https://localhost:8080/"
        },
        "id": "qxpwKQx_m2aA",
        "outputId": "9af5f00e-9d91-45bb-efe0-d902b9631ad8"
      },
      "execution_count": 2,
      "outputs": [
        {
          "output_type": "stream",
          "name": "stdout",
          "text": [
            "Mounted at /content/drive\n"
          ]
        }
      ]
    },
    {
      "cell_type": "markdown",
      "source": [
        "Load in our previously processed data used for cca by hand..."
      ],
      "metadata": {
        "id": "oK9fchWlvr1_"
      }
    },
    {
      "cell_type": "code",
      "source": [
        "cca = pd.read_csv('/content/drive/MyDrive/UW/sphscAudiogram/audiogram_cca.csv')"
      ],
      "metadata": {
        "id": "EWDbfy3JnQwN"
      },
      "execution_count": 3,
      "outputs": []
    },
    {
      "cell_type": "code",
      "source": [
        "# predictors: default predictors without any measurements from the audiogram\n",
        "predictors = ['AGE', 'GENDER_Female', 'GENDER_Male', 'LT1', 'RT1']\n",
        "X = cca[predictors]\n",
        "Y = cca.drop(columns = predictors)"
      ],
      "metadata": {
        "id": "ekcI1rDEnmy4"
      },
      "execution_count": 4,
      "outputs": []
    },
    {
      "cell_type": "code",
      "execution_count": 5,
      "metadata": {
        "id": "Q-kQ7AgUlTN9"
      },
      "outputs": [],
      "source": [
        "X_train, X_test, Y_train, Y_test = train_test_split(X, Y, test_size=0.2, random_state=6)"
      ]
    },
    {
      "cell_type": "markdown",
      "source": [
        "**Note:** We did not scale the data in this case, it is to be determined how scaling might change the performance of CCA"
      ],
      "metadata": {
        "id": "pi0rItBiwlk-"
      }
    },
    {
      "cell_type": "code",
      "source": [
        "# cca_model: cca fitted on X_ train and Y_train with 5 components\n",
        "cca_model = CCA(n_components=5)\n",
        "cca_model.fit(X_train, Y_train)\n",
        "\n",
        "# X_cca, Y_cca: X_train, Y_train transformed by cca_model\n",
        "X_cca, Y_cca = cca_model.transform(X_train, Y_train)\n",
        "score = cca_model.score(X_test, Y_test)\n",
        "print(score)"
      ],
      "metadata": {
        "colab": {
          "base_uri": "https://localhost:8080/"
        },
        "id": "7-woU_vvla8n",
        "outputId": "ce970796-0e28-46f2-b7a8-3228ebed7f23"
      },
      "execution_count": 6,
      "outputs": [
        {
          "output_type": "stream",
          "name": "stdout",
          "text": [
            "0.07630164278131113\n"
          ]
        }
      ]
    },
    {
      "cell_type": "markdown",
      "source": [
        "**How to interpret score:** The score from the CCA model in `sklearn` represents the sum of squared canonical correlations between two datasets. It ranges from 0 to 1, where higher values indicate stronger correlations and a better fit of the model to the underlying relationship between the datasets. A high score suggests that the model effectively captures the correlation between the linear combinations of the variables from both sets."
      ],
      "metadata": {
        "id": "KZvfWZS3xH9e"
      }
    },
    {
      "cell_type": "code",
      "source": [
        "root_mean_squared_error(cca_model.predict(X_test), Y_test)"
      ],
      "metadata": {
        "colab": {
          "base_uri": "https://localhost:8080/"
        },
        "id": "OK4kd5wblclt",
        "outputId": "35f9f36d-621a-491d-85be-a134b90d8266"
      },
      "execution_count": 7,
      "outputs": [
        {
          "output_type": "execute_result",
          "data": {
            "text/plain": [
              "17.6425584221586"
            ]
          },
          "metadata": {},
          "execution_count": 7
        }
      ]
    },
    {
      "cell_type": "markdown",
      "source": [
        "Recall that we obtained an rmse of 14 with our by hand cca process.\n",
        "\n",
        "Does this mean the by hand algorithm has better performance?"
      ],
      "metadata": {
        "id": "XxWNGwcMxm3D"
      }
    },
    {
      "cell_type": "markdown",
      "source": [
        "**Using CV** to validate the rmse, as well as observe performance of the cca model as n_comp changes"
      ],
      "metadata": {
        "id": "dM7hgSXJ5IzQ"
      }
    },
    {
      "cell_type": "markdown",
      "source": [
        "**Note:** This function is different than before in that it allows us to pass in the list of predictors we want to use"
      ],
      "metadata": {
        "id": "XsxSBdT8y8qD"
      }
    },
    {
      "cell_type": "code",
      "source": [
        "'''\n",
        "Input\n",
        "predictors: features used to predict\n",
        "data: the dataframe of all the features\n",
        "n_splits: number of splits for cv, default to 10\n",
        "\n",
        "Returns the rmse of the cca model for each number of components\n",
        "'''\n",
        "def cca_cv(predictors, data, n_splits = 10, shuffle = True, random_state = 42):\n",
        "  # get the cv with n_splits\n",
        "  cv = KFold(n_splits=n_splits, shuffle=shuffle, random_state=random_state)\n",
        "\n",
        "  # define X and Y\n",
        "  X = data[predictors]\n",
        "  Y = data.drop(columns = predictors)\n",
        "\n",
        "  # rmse[i] is the list of rmse of the cca model with i canonical components for each fold\n",
        "  rmse = {}\n",
        "  for n_comp in range(1, len(predictors)+1):\n",
        "    # list of rmse for each fold\n",
        "    rmse[n_comp] = []\n",
        "    for train_index, test_index in cv.split(X):\n",
        "      # split into train and test set\n",
        "      X_train, X_test = X.iloc[train_index], X.iloc[test_index]\n",
        "      Y_train, Y_test = Y.iloc[train_index], Y.iloc[test_index]\n",
        "\n",
        "      # fit cca model with current fold\n",
        "      cca_model = CCA(n_components=n_comp)\n",
        "      cca_model.fit(X_train, Y_train)\n",
        "      rmse[n_comp].append(root_mean_squared_error(cca_model.predict(X_test), Y_test))\n",
        "\n",
        "  return rmse"
      ],
      "metadata": {
        "id": "dmVVmvNd5KL1"
      },
      "execution_count": 11,
      "outputs": []
    },
    {
      "cell_type": "code",
      "source": [
        "# predictors: default predictors without any measurements from the audiogram\n",
        "rmse = cca_cv(predictors, cca)"
      ],
      "metadata": {
        "id": "cXoL_r_g7U2h"
      },
      "execution_count": 12,
      "outputs": []
    },
    {
      "cell_type": "markdown",
      "source": [
        "**Calculate the mean rmse of the list of rmse after cv**"
      ],
      "metadata": {
        "id": "Pt45JYNS0Gy9"
      }
    },
    {
      "cell_type": "code",
      "source": [
        "{key: statistics.mean(value) for key, value in rmse.items()}"
      ],
      "metadata": {
        "colab": {
          "base_uri": "https://localhost:8080/"
        },
        "id": "mrq5gH7h7l2S",
        "outputId": "1e052f51-7cca-46ef-b063-592b51415af8"
      },
      "execution_count": 13,
      "outputs": [
        {
          "output_type": "execute_result",
          "data": {
            "text/plain": [
              "{1: 14.094567291119887,\n",
              " 2: 14.398533052646007,\n",
              " 3: 15.110606007150562,\n",
              " 4: 16.792411817525764,\n",
              " 5: 19.39073679737196}"
            ]
          },
          "metadata": {},
          "execution_count": 13
        }
      ]
    },
    {
      "cell_type": "markdown",
      "source": [
        "**Observation:** One interesting result that can be easily seen is that, the rmse increases as n_comp increases. Which seems to contradict with our intuition that more components means lower loss, and should give lower rmse.\n",
        "\n",
        "In general, the performance of this cca model is not predicting as well as the by hand cca."
      ],
      "metadata": {
        "id": "95iEPWhQ0-cb"
      }
    }
  ]
}