{
  "cells": [
    {
      "cell_type": "markdown",
      "source": [
        "# Documentation\n",
        "\n",
        "Using cv technique, validate the error of the reconstructed data after applying PCA.\n",
        "\n",
        "Explored on potential factors that could influence mse. As well as examining if there are any relationship between the number of components used and mse."
      ],
      "metadata": {
        "id": "SZzwv-leN_i2"
      }
    },
    {
      "cell_type": "markdown",
      "source": [
        "# Work"
      ],
      "metadata": {
        "id": "PzQIPd3-OB1D"
      }
    },
    {
      "cell_type": "code",
      "execution_count": null,
      "metadata": {
        "id": "kM2ZjR9poutT"
      },
      "outputs": [],
      "source": [
        "import pandas as pd\n",
        "from sklearn.model_selection import KFold\n",
        "from sklearn.metrics import mean_squared_error\n",
        "from sklearn.preprocessing import StandardScaler\n",
        "from sklearn.decomposition import PCA\n",
        "import numpy as np\n",
        "import matplotlib.pyplot as plt"
      ]
    },
    {
      "cell_type": "code",
      "execution_count": null,
      "metadata": {
        "colab": {
          "base_uri": "https://localhost:8080/"
        },
        "id": "8Nn9qB5Uo2oa",
        "outputId": "0a8c6c81-7046-4b62-ebc9-b9e3f43fce85"
      },
      "outputs": [
        {
          "name": "stdout",
          "output_type": "stream",
          "text": [
            "Mounted at /content/drive\n"
          ]
        }
      ],
      "source": [
        "from google.colab import drive\n",
        "drive.mount('/content/drive')"
      ]
    },
    {
      "cell_type": "markdown",
      "source": [
        "Load our X from previous work..."
      ],
      "metadata": {
        "id": "fhpDZLxgDzqW"
      }
    },
    {
      "cell_type": "code",
      "execution_count": null,
      "metadata": {
        "id": "t8T9tyoiz0m2"
      },
      "outputs": [],
      "source": [
        "X = pd.read_csv('/content/drive/MyDrive/UW/sphscAudiogram/audiogram_x.csv')"
      ]
    },
    {
      "cell_type": "markdown",
      "metadata": {
        "id": "OZ30Wq5Mnsah"
      },
      "source": [
        "**Define a function** for cross validating the error between original unseen data and the pca (fitted on training data) reconstructed unseen data."
      ]
    },
    {
      "cell_type": "code",
      "execution_count": null,
      "metadata": {
        "id": "pR0S5-FCmv8Z"
      },
      "outputs": [],
      "source": [
        "'''\n",
        "Inputs\n",
        "n_splits: number of splits for CV\n",
        "n_components: number of principle components to fit\n",
        "X: data to conduct PCA\n",
        "scale: whether to standardize the input data or not\n",
        "\n",
        "Returns a list of mse and the average mse\n",
        "'''\n",
        "def cv_pca(n_splits, n_components, X, random_state = 42, shuffle = True, scale = True):\n",
        "  if scale:\n",
        "    scaler = StandardScaler()\n",
        "    scaler.fit(X)\n",
        "    X_scaled = scaler.transform(X)\n",
        "    # rename the scaled df to X, so the rest of the code in the function doesn't depend of whether X is scaled or not\n",
        "    X = pd.DataFrame(X_scaled, columns = X.columns)\n",
        "\n",
        "  # cv: k fold cv object\n",
        "  cv = KFold(n_splits=n_splits, shuffle=shuffle, random_state=random_state)\n",
        "\n",
        "  # mse_scores: list of mse scores for each fold of cv\n",
        "  mse_scores = []\n",
        "\n",
        "  for train_idx, test_idx in cv.split(X):\n",
        "    # split X into train and test based on cv assigned indices\n",
        "    X_train, X_test = X.iloc[train_idx], X.iloc[test_idx]\n",
        "\n",
        "    # get a pca object with number of components passed from the call of function\n",
        "    pca = PCA(n_components=n_components)\n",
        "    # fit pca to train\n",
        "    pca.fit(X_train)\n",
        "\n",
        "    # obtain the reconstructed X_test after fitting to the pca\n",
        "    X_test_transformed = pca.transform(X_test)\n",
        "    X_test_reconstructed = pca.inverse_transform(X_test_transformed)\n",
        "\n",
        "    # if scaled, scale X back to original scale\n",
        "    if scale:\n",
        "      X_test_reconstructed = scaler.inverse_transform(X_test_reconstructed)\n",
        "      X_test = scaler.inverse_transform(X_test)\n",
        "\n",
        "    # calculate mse of reconstructed test set and original test set\n",
        "    mse = mean_squared_error(X_test, X_test_reconstructed)\n",
        "    mse_scores.append(mse)\n",
        "\n",
        "    # get the average mse across all validation\n",
        "    average_mse = np.mean(mse_scores)\n",
        "\n",
        "  return mse_scores, average_mse"
      ]
    },
    {
      "cell_type": "markdown",
      "source": [
        "**Note:** The purpose of using a train and test set is to imitate the real process, when we train a pca based on some training measurements of audiogram, and the X_test mse tells us how much error we produce when our pre-trained pca is used to transform our predictions of pc's to our predictions of the measurements in the unseen audiogram."
      ],
      "metadata": {
        "id": "itiZHV8-H_tN"
      }
    },
    {
      "cell_type": "markdown",
      "metadata": {
        "id": "3JvMiCrT1Djg"
      },
      "source": [
        "**Explore on different parameters**"
      ]
    },
    {
      "cell_type": "code",
      "execution_count": null,
      "metadata": {
        "colab": {
          "base_uri": "https://localhost:8080/"
        },
        "id": "O48bwFRlzgPu",
        "outputId": "ff0dfdaa-fd23-48d4-9d63-c94b95096eb4"
      },
      "outputs": [
        {
          "data": {
            "text/plain": [
              "([51.705296600703655,\n",
              "  48.14517542612731,\n",
              "  48.25540936843997,\n",
              "  40.07625638349369,\n",
              "  41.479360686799254],\n",
              " 45.93229969311278)"
            ]
          },
          "execution_count": 18,
          "metadata": {},
          "output_type": "execute_result"
        }
      ],
      "source": [
        "# cv of 5 splits, fitting pca with 5 components, with scaling\n",
        "cv_pca(5, 5, X)"
      ]
    },
    {
      "cell_type": "markdown",
      "metadata": {
        "id": "BLWn4yxj1Ku5"
      },
      "source": [
        "Let's now see the error if we don't standardize the input dataframe."
      ]
    },
    {
      "cell_type": "code",
      "execution_count": null,
      "metadata": {
        "colab": {
          "base_uri": "https://localhost:8080/"
        },
        "id": "Qom4DAcZ08sH",
        "outputId": "d6c5d182-0424-4fdb-916d-a512f1d400e4"
      },
      "outputs": [
        {
          "data": {
            "text/plain": [
              "([39.92318870005597,\n",
              "  47.365586498589316,\n",
              "  48.960403308632095,\n",
              "  51.13316809518701,\n",
              "  39.565802186129304],\n",
              " 45.38962975771874)"
            ]
          },
          "execution_count": 19,
          "metadata": {},
          "output_type": "execute_result"
        }
      ],
      "source": [
        "# cv of 5 splits, fitting pca with 5 components, without scaling\n",
        "cv_pca(5, 5, X, False)"
      ]
    },
    {
      "cell_type": "markdown",
      "metadata": {
        "id": "7T6ZkxTY1SA3"
      },
      "source": [
        "**Without age and gender?**"
      ]
    },
    {
      "cell_type": "markdown",
      "source": [
        "Since age and gender is not part of outcome variable in practice, what if we only examine the samples of the same gender and age range?"
      ],
      "metadata": {
        "id": "gwUjg9iMJuCX"
      }
    },
    {
      "cell_type": "code",
      "execution_count": null,
      "metadata": {
        "id": "18PeeccU1UXA"
      },
      "outputs": [],
      "source": [
        "# X_under40_F: audiogram measurements of female under 40\n",
        "X_under40_F = X[(X['AGE'] < 40) & (X['GENDER_Female'] == 1)].drop(columns = ['AGE', 'GENDER_Female', 'GENDER_Male'])"
      ]
    },
    {
      "cell_type": "code",
      "execution_count": null,
      "metadata": {
        "colab": {
          "background_save": true
        },
        "id": "GAiUXdDW1Ydr",
        "outputId": "f996cf3f-201f-4f62-a5ed-6ef8e6a8b749"
      },
      "outputs": [
        {
          "data": {
            "text/plain": [
              "(20, 16)"
            ]
          },
          "execution_count": 21,
          "metadata": {},
          "output_type": "execute_result"
        }
      ],
      "source": [
        "X_under40_F.shape"
      ]
    },
    {
      "cell_type": "markdown",
      "source": [
        "We have few number of observations for the dimension of the data, this is likely to increase the mse."
      ],
      "metadata": {
        "id": "zCC6kotG1kqO"
      }
    },
    {
      "cell_type": "code",
      "source": [
        "# cv of 5 splits, fitting pca with 5 components, with scaling\n",
        "cv_pca(5, 5, X_under40_F)"
      ],
      "metadata": {
        "colab": {
          "base_uri": "https://localhost:8080/"
        },
        "id": "NQ7aFqEm1swa",
        "outputId": "660c6cab-81ab-47a5-cea1-6450d12c8a43"
      },
      "execution_count": null,
      "outputs": [
        {
          "output_type": "execute_result",
          "data": {
            "text/plain": [
              "([121.90383981539868,\n",
              "  47.25623293404746,\n",
              "  96.1426909441619,\n",
              "  25.814366292680308,\n",
              "  15.78665247727881],\n",
              " 61.380756492713445)"
            ]
          },
          "metadata": {},
          "execution_count": 22
        }
      ]
    },
    {
      "cell_type": "markdown",
      "source": [
        "It makes sence the error increases significantly."
      ],
      "metadata": {
        "id": "WeMScbg21zqb"
      }
    },
    {
      "cell_type": "markdown",
      "source": [
        "Trying for different number of PCA components."
      ],
      "metadata": {
        "id": "7XZSZxtA16fw"
      }
    },
    {
      "cell_type": "code",
      "source": [
        "# mean_mses: list of mean mse obtained from looping through all possible number of pca components\n",
        "mean_mses = [0]\n",
        "for i in range(1, len(X.columns)+1):\n",
        "  # getting the mean mse of 5 folds cv with i components\n",
        "  mean_mses.append(cv_pca(5, i, X)[1])"
      ],
      "metadata": {
        "id": "tTmE6oam19IL"
      },
      "execution_count": null,
      "outputs": []
    },
    {
      "cell_type": "code",
      "source": [
        "mean_mses = pd.DataFrame(mean_mses)\n",
        "mean_mses.rename(columns={0: 'MSE'}, inplace=True)"
      ],
      "metadata": {
        "id": "dU15k8hZ2CGQ"
      },
      "execution_count": null,
      "outputs": []
    },
    {
      "cell_type": "markdown",
      "source": [
        "Now let's visualize it."
      ],
      "metadata": {
        "id": "cIucYgq-2Hiz"
      }
    },
    {
      "cell_type": "code",
      "source": [
        "pd.DataFrame(mean_mses.iloc[1:len(X.columns)+1]).plot(kind='line', style='-o', figsize=(10, 5))\n",
        "plt.title('PCA Reconstruction 5-Fold CV Mean MSE')\n",
        "plt.xlabel('PCA Components')\n",
        "plt.ylabel('Mean MSE')\n",
        "plt.xticks(ticks=np.arange(0, len(X.columns)+1))\n",
        "plt.grid(True)\n",
        "\n",
        "plt.show()"
      ],
      "metadata": {
        "colab": {
          "base_uri": "https://localhost:8080/",
          "height": 487
        },
        "id": "OB2yQxEA2D2o",
        "outputId": "9c4f2525-26bb-43be-9d72-245bd26c1789"
      },
      "execution_count": null,
      "outputs": [
        {
          "output_type": "display_data",
          "data": {
            "text/plain": [
              "<Figure size 1000x500 with 1 Axes>"
            ],
            "image/png": "[encoded data removed]"
          },
          "metadata": {}
        }
      ]
    },
    {
      "cell_type": "markdown",
      "source": [
        "**Observation:** The plot shows no obvious turn, or 'elbow'. The decrease in decreasing rate of the mean MSE is seemingly constant (first derivative linear).\n",
        "\n",
        "How do we decide how many PCA components we want to use?"
      ],
      "metadata": {
        "id": "KBuALrNfNBz8"
      }
    }
  ],
  "metadata": {
    "colab": {
      "provenance": []
    },
    "kernelspec": {
      "display_name": "Python 3",
      "name": "python3"
    },
    "language_info": {
      "name": "python"
    }
  },
  "nbformat": 4,
  "nbformat_minor": 0
}